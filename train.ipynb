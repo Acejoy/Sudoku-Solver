{
 "cells": [
  {
   "cell_type": "code",
   "execution_count": 36,
   "metadata": {},
   "outputs": [],
   "source": [
    "import numpy as np\n",
    "import matplotlib.pyplot as plt\n",
    "from sklearn import datasets, svm, metrics, neighbors, linear_model\n",
    "from sklearn.model_selection import train_test_split\n",
    "from sklearn.neural_network import MLPClassifier"
   ]
  },
  {
   "cell_type": "code",
   "execution_count": 51,
   "metadata": {},
   "outputs": [],
   "source": [
    "import joblib "
   ]
  },
  {
   "cell_type": "code",
   "execution_count": 31,
   "metadata": {},
   "outputs": [
    {
     "name": "stdout",
     "output_type": "stream",
     "text": [
      "[ 0.  0.  5. 13.  9.  1.  0.  0.  0.  0. 13. 15. 10. 15.  5.  0.  0.  3.\n",
      " 15.  2.  0. 11.  8.  0.  0.  4. 12.  0.  0.  8.  8.  0.  0.  5.  8.  0.\n",
      "  0.  9.  8.  0.  0.  4. 11.  0.  1. 12.  7.  0.  0.  2. 14.  5. 10. 12.\n",
      "  0.  0.  0.  0.  6. 13. 10.  0.  0.  0.]\n"
     ]
    }
   ],
   "source": [
    "digits = datasets.load_digits()\n",
    "print(digits.data[0])"
   ]
  },
  {
   "cell_type": "code",
   "execution_count": 32,
   "metadata": {},
   "outputs": [
    {
     "data": {
      "text/plain": [
       "array([[ 0.,  0.,  5., 13.,  9.,  1.,  0.,  0.],\n",
       "       [ 0.,  0., 13., 15., 10., 15.,  5.,  0.],\n",
       "       [ 0.,  3., 15.,  2.,  0., 11.,  8.,  0.],\n",
       "       [ 0.,  4., 12.,  0.,  0.,  8.,  8.,  0.],\n",
       "       [ 0.,  5.,  8.,  0.,  0.,  9.,  8.,  0.],\n",
       "       [ 0.,  4., 11.,  0.,  1., 12.,  7.,  0.],\n",
       "       [ 0.,  2., 14.,  5., 10., 12.,  0.,  0.],\n",
       "       [ 0.,  0.,  6., 13., 10.,  0.,  0.,  0.]])"
      ]
     },
     "execution_count": 32,
     "metadata": {},
     "output_type": "execute_result"
    }
   ],
   "source": [
    "digits.images[0]"
   ]
  },
  {
   "cell_type": "code",
   "execution_count": null,
   "metadata": {},
   "outputs": [],
   "source": [
    "i = "
   ]
  },
  {
   "cell_type": "code",
   "execution_count": 25,
   "metadata": {},
   "outputs": [],
   "source": [
    "def plotMultiDigits(n):\n",
    "    fig = plt.figure(figsize=(15,15))\n",
    "    rows = n//4\n",
    "    cols = 4\n",
    "    \n",
    "    for idx in range(n):\n",
    "        plt.subplot(rows, cols, idx+1)\n",
    "        plt.imshow(digits.images[idx])\n",
    "        plt.title(digits.target[idx])\n",
    "        plt.axis(\"off\")\n",
    "        \n",
    "    plt.show()"
   ]
  },
  {
   "cell_type": "code",
   "execution_count": 26,
   "metadata": {},
   "outputs": [
    {
     "data": {
      "image/png": "[encoded data removed]",
      "text/plain": [
       "<Figure size 1080x1080 with 32 Axes>"
      ]
     },
     "metadata": {
      "needs_background": "light"
     },
     "output_type": "display_data"
    }
   ],
   "source": [
    "plotMultiDigits(32)"
   ]
  },
  {
   "cell_type": "code",
   "execution_count": 43,
   "metadata": {},
   "outputs": [],
   "source": [
    "n_samples = len(digits.images)\n",
    "X_train, X_test, Y_train, Y_test = train_test_split(digits.data,\n",
    "                                    digits.target, test_size=0.2, shuffle=True)\n"
   ]
  },
  {
   "cell_type": "code",
   "execution_count": 44,
   "metadata": {},
   "outputs": [
    {
     "name": "stdout",
     "output_type": "stream",
     "text": [
      "(1437, 64) (360, 64) (1437,) (360,)\n"
     ]
    }
   ],
   "source": [
    "print(X_train.shape, X_test.shape,  Y_train.shape, Y_test.shape)"
   ]
  },
  {
   "cell_type": "markdown",
   "metadata": {},
   "source": [
    "## SVM"
   ]
  },
  {
   "cell_type": "code",
   "execution_count": 45,
   "metadata": {},
   "outputs": [
    {
     "data": {
      "text/plain": [
       "SVC(gamma=0.001)"
      ]
     },
     "execution_count": 45,
     "metadata": {},
     "output_type": "execute_result"
    }
   ],
   "source": [
    "clf = svm.SVC(gamma=0.001)\n",
    "clf.fit(X_train, Y_train)\n"
   ]
  },
  {
   "cell_type": "code",
   "execution_count": 47,
   "metadata": {},
   "outputs": [
    {
     "data": {
      "image/png": "[encoded data removed]",
      "text/plain": [
       "<Figure size 720x216 with 4 Axes>"
      ]
     },
     "metadata": {
      "needs_background": "light"
     },
     "output_type": "display_data"
    }
   ],
   "source": [
    "# plotting the predictions\n",
    "predicted = clf.predict(X_test)\n",
    "_, axes = plt.subplots(nrows=1, ncols=4, figsize=(10, 3))\n",
    "for ax, image, prediction in zip(axes, X_test, predicted):\n",
    "    ax.set_axis_off()\n",
    "    image = image.reshape(8, 8)\n",
    "    ax.imshow(image, cmap=plt.cm.gray_r, interpolation='nearest')\n",
    "    ax.set_title(f'Prediction: {prediction}')"
   ]
  },
  {
   "cell_type": "code",
   "execution_count": 49,
   "metadata": {},
   "outputs": [
    {
     "name": "stdout",
     "output_type": "stream",
     "text": [
      "Classification report for classifier SVC(gamma=0.001):\n",
      "              precision    recall  f1-score   support\n",
      "\n",
      "           0       1.00      1.00      1.00        36\n",
      "           1       0.97      1.00      0.99        33\n",
      "           2       1.00      1.00      1.00        36\n",
      "           3       1.00      0.92      0.96        38\n",
      "           4       1.00      1.00      1.00        31\n",
      "           5       0.98      1.00      0.99        41\n",
      "           6       1.00      1.00      1.00        32\n",
      "           7       0.98      1.00      0.99        42\n",
      "           8       0.97      0.97      0.97        34\n",
      "           9       1.00      1.00      1.00        37\n",
      "\n",
      "    accuracy                           0.99       360\n",
      "   macro avg       0.99      0.99      0.99       360\n",
      "weighted avg       0.99      0.99      0.99       360\n",
      "\n",
      "\n"
     ]
    }
   ],
   "source": [
    "print(f\"Classification report for classifier {clf}:\\n\"\n",
    "      f\"{metrics.classification_report(Y_test, predicted)}\\n\")"
   ]
  },
  {
   "cell_type": "code",
   "execution_count": 52,
   "metadata": {},
   "outputs": [
    {
     "data": {
      "text/plain": [
       "['svmFinalModel.pkl']"
      ]
     },
     "execution_count": 52,
     "metadata": {},
     "output_type": "execute_result"
    }
   ],
   "source": [
    "#saving the model\n",
    "joblib.dump(clf, 'svmFinalModel.pkl')"
   ]
  },
  {
   "cell_type": "code",
   "execution_count": 53,
   "metadata": {},
   "outputs": [
    {
     "data": {
      "text/plain": [
       "(360, 64)"
      ]
     },
     "execution_count": 53,
     "metadata": {},
     "output_type": "execute_result"
    }
   ],
   "source": [
    "X_test.shape"
   ]
  },
  {
   "cell_type": "code",
   "execution_count": 54,
   "metadata": {},
   "outputs": [
    {
     "data": {
      "text/plain": [
       "(360,)"
      ]
     },
     "execution_count": 54,
     "metadata": {},
     "output_type": "execute_result"
    }
   ],
   "source": [
    "predicted.shape"
   ]
  },
  {
   "cell_type": "code",
   "execution_count": 55,
   "metadata": {},
   "outputs": [
    {
     "data": {
      "text/plain": [
       "array([3, 3, 4, 7, 8, 6, 1, 4, 5, 0, 9, 7, 4, 7, 8, 3, 7, 5, 0, 1, 3, 6,\n",
       "       4, 5, 4, 0, 7, 6, 2, 2, 3, 1, 5, 3, 8, 5, 8, 6, 5, 7, 8, 5, 8, 7,\n",
       "       1, 1, 8, 4, 8, 9, 7, 2, 6, 3, 8, 9, 4, 3, 7, 3, 4, 5, 6, 4, 7, 6,\n",
       "       7, 9, 1, 3, 0, 5, 6, 5, 2, 0, 1, 4, 8, 0, 4, 0, 1, 7, 4, 4, 0, 7,\n",
       "       9, 6, 3, 7, 2, 0, 0, 9, 8, 4, 4, 9, 6, 7, 2, 9, 5, 5, 9, 2, 8, 0,\n",
       "       3, 5, 5, 6, 2, 5, 4, 2, 5, 0, 7, 8, 0, 3, 0, 2, 9, 0, 2, 9, 6, 5,\n",
       "       3, 9, 4, 8, 1, 8, 1, 9, 6, 5, 1, 3, 1, 8, 9, 8, 3, 2, 1, 8, 2, 5,\n",
       "       9, 9, 9, 9, 7, 2, 9, 7, 5, 5, 2, 4, 2, 6, 2, 2, 7, 9, 5, 3, 8, 1,\n",
       "       3, 3, 9, 5, 5, 7, 2, 8, 6, 9, 8, 3, 6, 8, 3, 5, 1, 0, 9, 6, 0, 2,\n",
       "       0, 1, 6, 8, 0, 6, 6, 8, 7, 3, 7, 4, 2, 6, 5, 5, 4, 6, 5, 9, 1, 5,\n",
       "       0, 4, 7, 1, 5, 4, 1, 7, 0, 1, 2, 0, 4, 0, 8, 0, 5, 1, 8, 1, 5, 6,\n",
       "       7, 3, 8, 1, 8, 0, 7, 9, 3, 3, 4, 9, 3, 2, 2, 5, 7, 3, 2, 4, 0, 1,\n",
       "       7, 2, 7, 6, 7, 3, 2, 5, 2, 4, 7, 9, 6, 9, 0, 7, 8, 7, 3, 2, 0, 7,\n",
       "       4, 8, 2, 7, 5, 6, 1, 7, 6, 7, 3, 1, 7, 7, 2, 5, 8, 1, 1, 8, 0, 7,\n",
       "       0, 1, 7, 7, 1, 2, 5, 0, 0, 6, 1, 9, 6, 8, 2, 5, 9, 8, 5, 2, 9, 9,\n",
       "       1, 5, 7, 5, 1, 5, 4, 4, 9, 1, 9, 2, 4, 9, 2, 4, 3, 6, 0, 3, 9, 3,\n",
       "       6, 3, 0, 0, 0, 3, 6, 9])"
      ]
     },
     "execution_count": 55,
     "metadata": {},
     "output_type": "execute_result"
    }
   ],
   "source": [
    "predicted"
   ]
  },
  {
   "cell_type": "code",
   "execution_count": 62,
   "metadata": {},
   "outputs": [],
   "source": [
    "import cv2\n",
    "i = cv2.resize(digits.images[333],(28,28))\n",
    "cv2.imshow('im', i)\n",
    "cv2.waitKey(0)\n",
    "cv2.destroyAllWindows()"
   ]
  },
  {
   "cell_type": "code",
   "execution_count": null,
   "metadata": {},
   "outputs": [],
   "source": []
  }
 ],
 "metadata": {
  "kernelspec": {
   "display_name": "Python 3",
   "language": "python",
   "name": "python3"
  },
  "language_info": {
   "codemirror_mode": {
    "name": "ipython",
    "version": 3
   },
   "file_extension": ".py",
   "mimetype": "text/x-python",
   "name": "python",
   "nbconvert_exporter": "python",
   "pygments_lexer": "ipython3",
   "version": "3.7.6"
  }
 },
 "nbformat": 4,
 "nbformat_minor": 4
}
