{
 "cells": [
  {
   "cell_type": "code",
   "execution_count": 1,
   "metadata": {},
   "outputs": [],
   "source": [
    "import os\n",
    "import cv2\n",
    "import numpy as np\n",
    "import pandas as pd\n",
    "from sklearn import svm, metrics\n",
    "from sklearn.tree import DecisionTreeClassifier\n",
    "from sklearn.model_selection import train_test_split"
   ]
  },
  {
   "cell_type": "code",
   "execution_count": 4,
   "metadata": {},
   "outputs": [],
   "source": [
    "import joblib"
   ]
  },
  {
   "cell_type": "code",
   "execution_count": 2,
   "metadata": {},
   "outputs": [],
   "source": [
    "#reading the data\n",
    "trainData = pd.read_csv('./Digit Dataset/train.csv').to_numpy()\n",
    "X_train = trainData[:35000,1:]\n",
    "Y_train = trainData[:35000,0]\n",
    "\n",
    "X_test = trainData[35000:,1:]\n",
    "Y_test = trainData[35000:,0]\n",
    "testData = pd.read_csv('./Digit Dataset/test.csv').to_numpy()\n"
   ]
  },
  {
   "cell_type": "markdown",
   "metadata": {},
   "source": [
    "## Decision Tree Classifier"
   ]
  },
  {
   "cell_type": "code",
   "execution_count": 3,
   "metadata": {},
   "outputs": [
    {
     "name": "stdout",
     "output_type": "stream",
     "text": [
      "              precision    recall  f1-score   support\n",
      "\n",
      "           0       0.92      0.90      0.91       716\n",
      "           1       0.93      0.96      0.94       781\n",
      "           2       0.82      0.83      0.82       671\n",
      "           3       0.81      0.80      0.80       729\n",
      "           4       0.86      0.84      0.85       705\n",
      "           5       0.77      0.80      0.79       600\n",
      "           6       0.89      0.89      0.89       711\n",
      "           7       0.89      0.91      0.90       719\n",
      "           8       0.79      0.78      0.79       687\n",
      "           9       0.84      0.82      0.83       681\n",
      "\n",
      "    accuracy                           0.86      7000\n",
      "   macro avg       0.85      0.85      0.85      7000\n",
      "weighted avg       0.86      0.86      0.86      7000\n",
      "\n"
     ]
    }
   ],
   "source": [
    "clf1 = DecisionTreeClassifier()\n",
    "clf1.fit(X_train, Y_train)\n",
    "\n",
    "Y_pred1 = clf1.predict(X_test)\n",
    "print(metrics.classification_report(Y_test, Y_pred1))"
   ]
  },
  {
   "cell_type": "code",
   "execution_count": 6,
   "metadata": {},
   "outputs": [
    {
     "data": {
      "text/plain": [
       "['fitModel.pkl']"
      ]
     },
     "execution_count": 6,
     "metadata": {},
     "output_type": "execute_result"
    }
   ],
   "source": [
    "#saving the model\n",
    "joblib.dump(clf1, 'fitModel.pkl')"
   ]
  },
  {
   "cell_type": "code",
   "execution_count": null,
   "metadata": {},
   "outputs": [],
   "source": []
  }
 ],
 "metadata": {
  "kernelspec": {
   "display_name": "Python 3",
   "language": "python",
   "name": "python3"
  },
  "language_info": {
   "codemirror_mode": {
    "name": "ipython",
    "version": 3
   },
   "file_extension": ".py",
   "mimetype": "text/x-python",
   "name": "python",
   "nbconvert_exporter": "python",
   "pygments_lexer": "ipython3",
   "version": "3.7.6"
  }
 },
 "nbformat": 4,
 "nbformat_minor": 4
}
